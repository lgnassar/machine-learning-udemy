{
 "cells": [
  {
   "cell_type": "markdown",
   "id": "de6c5dd4",
   "metadata": {},
   "source": [
    "## 0. An end-end Scikit-Learn workflow"
   ]
  },
  {
   "cell_type": "code",
   "execution_count": null,
   "id": "124cd7f1",
   "metadata": {},
   "outputs": [],
   "source": []
  }
 ],
 "metadata": {
  "kernelspec": {
   "display_name": "Python 3 (ipykernel)",
   "language": "python",
   "name": "python3"
  },
  "language_info": {
   "codemirror_mode": {
    "name": "ipython",
    "version": 3
   },
   "file_extension": ".py",
   "mimetype": "text/x-python",
   "name": "python",
   "nbconvert_exporter": "python",
   "pygments_lexer": "ipython3",
   "version": "3.11.3"
  }
 },
 "nbformat": 4,
 "nbformat_minor": 5
}
